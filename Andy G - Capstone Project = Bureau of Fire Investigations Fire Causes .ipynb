{
 "cells": [
  {
   "cell_type": "markdown",
   "id": "16fdeeee",
   "metadata": {},
   "source": [
    "# <center> <font color=\"midnightblue\"> CAPSTONE PROJECT - FDNY DATA </font> </center>"
   ]
  },
  {
   "attachments": {},
   "cell_type": "markdown",
   "id": "0b27dafb",
   "metadata": {},
   "source": [
    "<p> <strong> <font color=\"midnightblue\"> Research Questions - \n",
    "1. What year(s) had the highest / lowest count of investigations?\n",
    "2. Did Covid influence the data in anyway? \n",
    "3. Which borough(s) had the highest / lowest count of investigation?\n",
    "4. Which was the most common incident type in the borough with the highest number of cases?\n",
    "5. Of the boroughs with the highest number of cases, which community district had the highest count of investigations? </font> </strong>"
   ]
  },
  {
   "cell_type": "markdown",
   "id": "ed9c7c86",
   "metadata": {},
   "source": [
    "### <font color=\"midnightblue\"> Adding Libraries </font> "
   ]
  },
  {
   "cell_type": "code",
   "execution_count": 43,
   "id": "5ed8e574",
   "metadata": {},
   "outputs": [],
   "source": [
    "import pandas as pd\n",
    "import seaborn as sns  \n",
    "import matplotlib.pyplot as plt\n",
    "import numpy as np"
   ]
  },
  {
   "cell_type": "markdown",
   "id": "ccfc3a45",
   "metadata": {},
   "source": [
    "### <font color=\"midnightblue\"> Adding Data </font> "
   ]
  },
  {
   "cell_type": "code",
   "execution_count": 2,
   "id": "394e456f",
   "metadata": {},
   "outputs": [],
   "source": [
    "# Downloaded data as csv to desktop \"downloads folder\", then uploaded to Jupyter \"Notebooks\" folder.\n",
    "\n",
    "df = pd.read_csv ('Bureau_of_Fire_Investigations_-_Fire_Causes_20240609.csv')"
   ]
  },
  {
   "cell_type": "code",
   "execution_count": 3,
   "id": "997fb28f",
   "metadata": {},
   "outputs": [
    {
     "data": {
      "text/plain": [
       "(53741, 10)"
      ]
     },
     "execution_count": 3,
     "metadata": {},
     "output_type": "execute_result"
    }
   ],
   "source": [
    "# To ensure data uploaded correctly, verified the output matches the NYC Open Data site \n",
    "\n",
    "df.shape"
   ]
  },
  {
   "cell_type": "markdown",
   "id": "20ab2c73",
   "metadata": {},
   "source": [
    "### <font color=\"midnightblue\"> Data Exploration - Basic </font> "
   ]
  },
  {
   "cell_type": "code",
   "execution_count": 4,
   "id": "e0716e7c",
   "metadata": {},
   "outputs": [
    {
     "data": {
      "text/plain": [
       "Case_Year                   int64\n",
       "Case Number                 int64\n",
       "Incident_DateTime          object\n",
       "Borough                    object\n",
       "Battalion                  object\n",
       "Community_District         object\n",
       "Precinct                   object\n",
       "Incident_Classification    object\n",
       "Cause_Fire_Description     object\n",
       "Fire_Code_Category         object\n",
       "dtype: object"
      ]
     },
     "execution_count": 4,
     "metadata": {},
     "output_type": "execute_result"
    }
   ],
   "source": [
    "# Checking Data Types for all colummns\n",
    "\n",
    "df.dtypes"
   ]
  },
  {
   "cell_type": "code",
   "execution_count": 5,
   "id": "b3387ffe",
   "metadata": {},
   "outputs": [
    {
     "data": {
      "text/html": [
       "<div>\n",
       "<style scoped>\n",
       "    .dataframe tbody tr th:only-of-type {\n",
       "        vertical-align: middle;\n",
       "    }\n",
       "\n",
       "    .dataframe tbody tr th {\n",
       "        vertical-align: top;\n",
       "    }\n",
       "\n",
       "    .dataframe thead th {\n",
       "        text-align: right;\n",
       "    }\n",
       "</style>\n",
       "<table border=\"1\" class=\"dataframe\">\n",
       "  <thead>\n",
       "    <tr style=\"text-align: right;\">\n",
       "      <th></th>\n",
       "      <th>Case_Year</th>\n",
       "      <th>Case Number</th>\n",
       "    </tr>\n",
       "  </thead>\n",
       "  <tbody>\n",
       "    <tr>\n",
       "      <th>count</th>\n",
       "      <td>53741.000000</td>\n",
       "      <td>53741.000000</td>\n",
       "    </tr>\n",
       "    <tr>\n",
       "      <th>mean</th>\n",
       "      <td>2019.336019</td>\n",
       "      <td>45863.314750</td>\n",
       "    </tr>\n",
       "    <tr>\n",
       "      <th>std</th>\n",
       "      <td>2.381225</td>\n",
       "      <td>24401.648624</td>\n",
       "    </tr>\n",
       "    <tr>\n",
       "      <th>min</th>\n",
       "      <td>2016.000000</td>\n",
       "      <td>0.000000</td>\n",
       "    </tr>\n",
       "    <tr>\n",
       "      <th>25%</th>\n",
       "      <td>2017.000000</td>\n",
       "      <td>30054.000000</td>\n",
       "    </tr>\n",
       "    <tr>\n",
       "      <th>50%</th>\n",
       "      <td>2019.000000</td>\n",
       "      <td>40435.000000</td>\n",
       "    </tr>\n",
       "    <tr>\n",
       "      <th>75%</th>\n",
       "      <td>2021.000000</td>\n",
       "      <td>77092.000000</td>\n",
       "    </tr>\n",
       "    <tr>\n",
       "      <th>max</th>\n",
       "      <td>2024.000000</td>\n",
       "      <td>80298.000000</td>\n",
       "    </tr>\n",
       "  </tbody>\n",
       "</table>\n",
       "</div>"
      ],
      "text/plain": [
       "          Case_Year   Case Number\n",
       "count  53741.000000  53741.000000\n",
       "mean    2019.336019  45863.314750\n",
       "std        2.381225  24401.648624\n",
       "min     2016.000000      0.000000\n",
       "25%     2017.000000  30054.000000\n",
       "50%     2019.000000  40435.000000\n",
       "75%     2021.000000  77092.000000\n",
       "max     2024.000000  80298.000000"
      ]
     },
     "execution_count": 5,
     "metadata": {},
     "output_type": "execute_result"
    }
   ],
   "source": [
    "# Checking statistical data\n",
    "\n",
    "df.describe () "
   ]
  },
  {
   "cell_type": "code",
   "execution_count": 6,
   "id": "5bdffe15",
   "metadata": {},
   "outputs": [
    {
     "data": {
      "text/html": [
       "<div>\n",
       "<style scoped>\n",
       "    .dataframe tbody tr th:only-of-type {\n",
       "        vertical-align: middle;\n",
       "    }\n",
       "\n",
       "    .dataframe tbody tr th {\n",
       "        vertical-align: top;\n",
       "    }\n",
       "\n",
       "    .dataframe thead th {\n",
       "        text-align: right;\n",
       "    }\n",
       "</style>\n",
       "<table border=\"1\" class=\"dataframe\">\n",
       "  <thead>\n",
       "    <tr style=\"text-align: right;\">\n",
       "      <th></th>\n",
       "      <th>Case_Year</th>\n",
       "      <th>Case Number</th>\n",
       "      <th>Incident_DateTime</th>\n",
       "      <th>Borough</th>\n",
       "      <th>Battalion</th>\n",
       "      <th>Community_District</th>\n",
       "      <th>Precinct</th>\n",
       "      <th>Incident_Classification</th>\n",
       "      <th>Cause_Fire_Description</th>\n",
       "      <th>Fire_Code_Category</th>\n",
       "    </tr>\n",
       "  </thead>\n",
       "  <tbody>\n",
       "    <tr>\n",
       "      <th>0</th>\n",
       "      <td>2016</td>\n",
       "      <td>40001</td>\n",
       "      <td>01/01/2016 12:08:00 AM</td>\n",
       "      <td>Queens</td>\n",
       "      <td>50</td>\n",
       "      <td>8</td>\n",
       "      <td>107</td>\n",
       "      <td>MD Residential Structure</td>\n",
       "      <td>Smoking (Cigarette/Cigar)</td>\n",
       "      <td>Smoking</td>\n",
       "    </tr>\n",
       "    <tr>\n",
       "      <th>1</th>\n",
       "      <td>2016</td>\n",
       "      <td>50001</td>\n",
       "      <td>01/01/2016 12:13:00 AM</td>\n",
       "      <td>Staten Island</td>\n",
       "      <td>21</td>\n",
       "      <td>2</td>\n",
       "      <td>122</td>\n",
       "      <td>PD Residential Structure</td>\n",
       "      <td>Incendiary - Combustible Material</td>\n",
       "      <td>Incendiary</td>\n",
       "    </tr>\n",
       "    <tr>\n",
       "      <th>2</th>\n",
       "      <td>2016</td>\n",
       "      <td>40002</td>\n",
       "      <td>01/01/2016 12:21:00 AM</td>\n",
       "      <td>Queens</td>\n",
       "      <td>37</td>\n",
       "      <td>5</td>\n",
       "      <td>104</td>\n",
       "      <td>MD Residential Structure</td>\n",
       "      <td>Incendiary - Combustible Material</td>\n",
       "      <td>Incendiary</td>\n",
       "    </tr>\n",
       "    <tr>\n",
       "      <th>3</th>\n",
       "      <td>2016</td>\n",
       "      <td>60001</td>\n",
       "      <td>01/01/2016 12:29:00 AM</td>\n",
       "      <td>Bronx</td>\n",
       "      <td>15</td>\n",
       "      <td>12</td>\n",
       "      <td>47</td>\n",
       "      <td>Burn Notification (Albany)</td>\n",
       "      <td>Albany Burn Notif. Unrelated to a Fire/Explosion</td>\n",
       "      <td>Other</td>\n",
       "    </tr>\n",
       "    <tr>\n",
       "      <th>4</th>\n",
       "      <td>2016</td>\n",
       "      <td>40003</td>\n",
       "      <td>01/01/2016 12:32:00 AM</td>\n",
       "      <td>Queens</td>\n",
       "      <td>50</td>\n",
       "      <td>12</td>\n",
       "      <td>103</td>\n",
       "      <td>PD Residential Structure</td>\n",
       "      <td>Incendiary - Combustible Material</td>\n",
       "      <td>Incendiary</td>\n",
       "    </tr>\n",
       "  </tbody>\n",
       "</table>\n",
       "</div>"
      ],
      "text/plain": [
       "   Case_Year  Case Number       Incident_DateTime        Borough Battalion  \\\n",
       "0       2016        40001  01/01/2016 12:08:00 AM         Queens        50   \n",
       "1       2016        50001  01/01/2016 12:13:00 AM  Staten Island        21   \n",
       "2       2016        40002  01/01/2016 12:21:00 AM         Queens        37   \n",
       "3       2016        60001  01/01/2016 12:29:00 AM          Bronx        15   \n",
       "4       2016        40003  01/01/2016 12:32:00 AM         Queens        50   \n",
       "\n",
       "  Community_District Precinct     Incident_Classification  \\\n",
       "0                  8      107    MD Residential Structure   \n",
       "1                  2      122    PD Residential Structure   \n",
       "2                  5      104    MD Residential Structure   \n",
       "3                 12       47  Burn Notification (Albany)   \n",
       "4                 12      103    PD Residential Structure   \n",
       "\n",
       "                             Cause_Fire_Description Fire_Code_Category  \n",
       "0                         Smoking (Cigarette/Cigar)            Smoking  \n",
       "1                 Incendiary - Combustible Material         Incendiary  \n",
       "2                 Incendiary - Combustible Material         Incendiary  \n",
       "3  Albany Burn Notif. Unrelated to a Fire/Explosion              Other  \n",
       "4                 Incendiary - Combustible Material         Incendiary  "
      ]
     },
     "execution_count": 6,
     "metadata": {},
     "output_type": "execute_result"
    }
   ],
   "source": [
    "# Checking the first 5 rows of data\n",
    "\n",
    "df.head ()"
   ]
  },
  {
   "cell_type": "code",
   "execution_count": 7,
   "id": "a115b6a6",
   "metadata": {},
   "outputs": [
    {
     "data": {
      "text/html": [
       "<div>\n",
       "<style scoped>\n",
       "    .dataframe tbody tr th:only-of-type {\n",
       "        vertical-align: middle;\n",
       "    }\n",
       "\n",
       "    .dataframe tbody tr th {\n",
       "        vertical-align: top;\n",
       "    }\n",
       "\n",
       "    .dataframe thead th {\n",
       "        text-align: right;\n",
       "    }\n",
       "</style>\n",
       "<table border=\"1\" class=\"dataframe\">\n",
       "  <thead>\n",
       "    <tr style=\"text-align: right;\">\n",
       "      <th></th>\n",
       "      <th>Case_Year</th>\n",
       "      <th>Case Number</th>\n",
       "      <th>Incident_DateTime</th>\n",
       "      <th>Borough</th>\n",
       "      <th>Battalion</th>\n",
       "      <th>Community_District</th>\n",
       "      <th>Precinct</th>\n",
       "      <th>Incident_Classification</th>\n",
       "      <th>Cause_Fire_Description</th>\n",
       "      <th>Fire_Code_Category</th>\n",
       "    </tr>\n",
       "  </thead>\n",
       "  <tbody>\n",
       "    <tr>\n",
       "      <th>53736</th>\n",
       "      <td>2024</td>\n",
       "      <td>20357</td>\n",
       "      <td>05/02/2024 06:21:00 AM</td>\n",
       "      <td>Bronx</td>\n",
       "      <td>27</td>\n",
       "      <td>12</td>\n",
       "      <td>47</td>\n",
       "      <td>NaN</td>\n",
       "      <td>Preliminary Investigation Only</td>\n",
       "      <td>Other</td>\n",
       "    </tr>\n",
       "    <tr>\n",
       "      <th>53737</th>\n",
       "      <td>2024</td>\n",
       "      <td>20358</td>\n",
       "      <td>05/02/2024 06:48:00 AM</td>\n",
       "      <td>Bronx</td>\n",
       "      <td>19</td>\n",
       "      <td>7</td>\n",
       "      <td>50</td>\n",
       "      <td>NaN</td>\n",
       "      <td>Preliminary Investigation Only</td>\n",
       "      <td>Other</td>\n",
       "    </tr>\n",
       "    <tr>\n",
       "      <th>53738</th>\n",
       "      <td>2024</td>\n",
       "      <td>10229</td>\n",
       "      <td>05/03/2024 11:37:00 AM</td>\n",
       "      <td>Manhattan</td>\n",
       "      <td>10</td>\n",
       "      <td>8</td>\n",
       "      <td>19</td>\n",
       "      <td>Commercial Structure</td>\n",
       "      <td>Preliminary Investigation Only</td>\n",
       "      <td>Other</td>\n",
       "    </tr>\n",
       "    <tr>\n",
       "      <th>53739</th>\n",
       "      <td>2024</td>\n",
       "      <td>30440</td>\n",
       "      <td>05/03/2024 03:14:00 PM</td>\n",
       "      <td>Brooklyn</td>\n",
       "      <td>33</td>\n",
       "      <td>14</td>\n",
       "      <td>63</td>\n",
       "      <td>MD Residential Structure</td>\n",
       "      <td>Preliminary Investigation Only</td>\n",
       "      <td>Other</td>\n",
       "    </tr>\n",
       "    <tr>\n",
       "      <th>53740</th>\n",
       "      <td>2024</td>\n",
       "      <td>40405</td>\n",
       "      <td>05/03/2024 05:07:00 PM</td>\n",
       "      <td>Queens</td>\n",
       "      <td>52</td>\n",
       "      <td>8</td>\n",
       "      <td>107</td>\n",
       "      <td>Street</td>\n",
       "      <td>Preliminary Investigation Only</td>\n",
       "      <td>Other</td>\n",
       "    </tr>\n",
       "  </tbody>\n",
       "</table>\n",
       "</div>"
      ],
      "text/plain": [
       "       Case_Year  Case Number       Incident_DateTime    Borough Battalion  \\\n",
       "53736       2024        20357  05/02/2024 06:21:00 AM      Bronx        27   \n",
       "53737       2024        20358  05/02/2024 06:48:00 AM      Bronx        19   \n",
       "53738       2024        10229  05/03/2024 11:37:00 AM  Manhattan        10   \n",
       "53739       2024        30440  05/03/2024 03:14:00 PM   Brooklyn        33   \n",
       "53740       2024        40405  05/03/2024 05:07:00 PM     Queens        52   \n",
       "\n",
       "      Community_District Precinct   Incident_Classification  \\\n",
       "53736                 12       47                       NaN   \n",
       "53737                  7       50                       NaN   \n",
       "53738                  8       19      Commercial Structure   \n",
       "53739                 14       63  MD Residential Structure   \n",
       "53740                  8      107                    Street   \n",
       "\n",
       "               Cause_Fire_Description Fire_Code_Category  \n",
       "53736  Preliminary Investigation Only              Other  \n",
       "53737  Preliminary Investigation Only              Other  \n",
       "53738  Preliminary Investigation Only              Other  \n",
       "53739  Preliminary Investigation Only              Other  \n",
       "53740  Preliminary Investigation Only              Other  "
      ]
     },
     "execution_count": 7,
     "metadata": {},
     "output_type": "execute_result"
    }
   ],
   "source": [
    "# Checking the last 5 rows of data\n",
    "\n",
    "df.tail ()"
   ]
  },
  {
   "cell_type": "code",
   "execution_count": 8,
   "id": "0fec4ed6",
   "metadata": {},
   "outputs": [
    {
     "data": {
      "text/plain": [
       "Case_Year                  53741\n",
       "Case Number                53741\n",
       "Incident_DateTime          53741\n",
       "Borough                    53481\n",
       "Battalion                  46083\n",
       "Community_District         53403\n",
       "Precinct                   53397\n",
       "Incident_Classification    52914\n",
       "Cause_Fire_Description     53668\n",
       "Fire_Code_Category         53680\n",
       "dtype: int64"
      ]
     },
     "execution_count": 8,
     "metadata": {},
     "output_type": "execute_result"
    }
   ],
   "source": [
    "# Checking count of non null data points \n",
    "\n",
    "df.count ()"
   ]
  },
  {
   "cell_type": "code",
   "execution_count": 9,
   "id": "d44e10a2",
   "metadata": {},
   "outputs": [
    {
     "data": {
      "text/plain": [
       "Case_Year                     0\n",
       "Case Number                   0\n",
       "Incident_DateTime             0\n",
       "Borough                     260\n",
       "Battalion                  7658\n",
       "Community_District          338\n",
       "Precinct                    344\n",
       "Incident_Classification     827\n",
       "Cause_Fire_Description       73\n",
       "Fire_Code_Category           61\n",
       "dtype: int64"
      ]
     },
     "execution_count": 9,
     "metadata": {},
     "output_type": "execute_result"
    }
   ],
   "source": [
    "# Checking for count of standard null values\n",
    "\n",
    "df.isnull().sum()"
   ]
  },
  {
   "cell_type": "code",
   "execution_count": 10,
   "id": "b756041c",
   "metadata": {},
   "outputs": [
    {
     "data": {
      "text/plain": [
       "array(['Queens', 'Staten Island', 'Bronx', 'Manhattan', 'Brooklyn',\n",
       "       'Outside of NYC', nan], dtype=object)"
      ]
     },
     "execution_count": 10,
     "metadata": {},
     "output_type": "execute_result"
    }
   ],
   "source": [
    "# Checking for non standard values\n",
    "\n",
    "df['Borough'].unique()"
   ]
  },
  {
   "cell_type": "code",
   "execution_count": 11,
   "id": "7b117d78",
   "metadata": {},
   "outputs": [
    {
     "data": {
      "text/plain": [
       "array(['8', '2', '5', '12', '4', '10', '7', '11', '3', '1', '6', '9',\n",
       "       '18', '13', '16', '14', '17', 'Out of NYC', '15', nan],\n",
       "      dtype=object)"
      ]
     },
     "execution_count": 11,
     "metadata": {},
     "output_type": "execute_result"
    }
   ],
   "source": [
    "df['Community_District'].unique()"
   ]
  },
  {
   "cell_type": "code",
   "execution_count": 12,
   "id": "aad1fb06",
   "metadata": {},
   "outputs": [
    {
     "data": {
      "text/plain": [
       "array(['MD Residential Structure', 'PD Residential Structure',\n",
       "       'Burn Notification (Albany)', 'Other', 'Burn Notification',\n",
       "       'Outside Rubbish', 'Commercial Structure', 'Group Home', 'Vehicle',\n",
       "       'Government Structure', 'Boat', 'MFA', 'Garage/Shed', 'Hotel',\n",
       "       'Nursing Home', 'Brush', 'Hospital', 'Religious Structure',\n",
       "       'Manhole', 'School', 'No Fire', 'Transformer', 'Street',\n",
       "       'Possible Single Room Occupancy', 'Public Hallway',\n",
       "       'Public Structure', 'Threat to Burn', 'Transit', 'Sidewalk',\n",
       "       'Construction Trailer', 'Aircraft', 'Construction Vehicle', nan,\n",
       "       'Miscellaneous'], dtype=object)"
      ]
     },
     "execution_count": 12,
     "metadata": {},
     "output_type": "execute_result"
    }
   ],
   "source": [
    "df['Incident_Classification'].unique()"
   ]
  },
  {
   "cell_type": "code",
   "execution_count": 13,
   "id": "b614a019",
   "metadata": {},
   "outputs": [
    {
     "data": {
      "text/plain": [
       "array(['Smoking', 'Incendiary', 'Other', 'Open Flame', 'No Fire',\n",
       "       'Electrical Devices', 'Cooking Carelessness', 'Electrical',\n",
       "       'Motors', 'Hot Objects', 'Heaters', 'Appliances',\n",
       "       'Natural Sources', nan, 'Ignitable', 'Cooking'], dtype=object)"
      ]
     },
     "execution_count": 13,
     "metadata": {},
     "output_type": "execute_result"
    }
   ],
   "source": [
    "df['Fire_Code_Category'].unique()"
   ]
  },
  {
   "cell_type": "code",
   "execution_count": 14,
   "id": "586b6fca",
   "metadata": {},
   "outputs": [
    {
     "data": {
      "text/plain": [
       "array(['Smoking (Cigarette/Cigar)', 'Incendiary - Combustible Material',\n",
       "       'Albany Burn Notif. Unrelated to a Fire/Explosion', 'Candle',\n",
       "       'Other - Open Flame', 'Other - No Fire', 'Computer Component(s)',\n",
       "       'Food on the Stove',\n",
       "       'Albany Burn Notif. Related to a Previous BFI Inv.', 'Incendiary',\n",
       "       'Preliminary Investigation Only', 'Electrical Wiring',\n",
       "       'Cooking Fire Extending to Clothing or Combustibles',\n",
       "       'Incendiary - Ignitable Liquid', 'Fireplace', 'Vehicle Wiring',\n",
       "       'Extension Cord', 'Holiday Lighting', 'Other - Electrical',\n",
       "       'Other Motor', 'Motors - Fan', 'Child Playing w/ Other Open Flame',\n",
       "       'Juvenile Firesetter Intervention', 'Other - Hot Objects',\n",
       "       'Portable Heater - Kerosene', 'Clothes Dryer - Natural Gas', 'MFA',\n",
       "       'Motors - Fossil Fuel Powered', 'Permanent Heater - Gas',\n",
       "       'Incense', 'Matches/Lighter', 'Lighting Fixture',\n",
       "       'Permanent Heater', 'Albany Burn Notif. / Pending Investigation',\n",
       "       'Stove/Cooking - Other', 'Appliance Cord',\n",
       "       'Spontaneous Combustion', 'Rangehood Fire - Ductwork', 'Other',\n",
       "       'Hard Wire Outlet', 'Heat from Light Bulb', nan,\n",
       "       'Incendiary - Fireworks', 'Clothes Dryer',\n",
       "       'Portable Heater - Electric', 'Torch - Legal Use of',\n",
       "       'Heat From Molten Metal / Slag', 'Fuse/Circuit Breaker Panel',\n",
       "       'Incendiary - Attempted Arson', 'Permanent Heater - Oil',\n",
       "       'Other - Ignitable Liquid/Gas', 'Stove/Cooking - Stove',\n",
       "       'Incendiary - Torch - Illegal Use of', 'Other - Liquid',\n",
       "       'Child Playing w/Matches/Lighter', 'Carbon Monoxide Incident',\n",
       "       'Incendiary - Attempted Suicide', 'Power Strip',\n",
       "       'Permanent Heater - Electric', 'Motors - Alternative Fuel Powered',\n",
       "       'Stove  - Natural Gas', 'Barbecue - Wood/Charcoal',\n",
       "       'Other Appliance', 'Heaters - Other', 'Portable Heater',\n",
       "       'Transformer', 'Permanent Heater - Steam Radiator (Pyrolysis)',\n",
       "       'Exothermic Chemical Reaction', 'Fraudulent Placard Investigation',\n",
       "       'Heat or Sparks from Friction', 'Incendiary - Self Immolation',\n",
       "       'Service', 'Feeder Cable', 'SIU Investigation',\n",
       "       'Motors - Electric', 'Under Investigation', 'Chimney/Flues',\n",
       "       'Threat to Burn', 'Stove/Cooking - Toaster Oven',\n",
       "       'Other Audio Visual Equipment', 'Hot Embers',\n",
       "       'Ignitable Liquids/Gases - Natural Gas', 'Stove/Cooking - Fryer',\n",
       "       'Motors - Compressors', 'Stove - Wood', 'Refrigeration Compressor',\n",
       "       'Ignitable Liquids/Gases - Propane', 'TV',\n",
       "       'Incendiary - Combustible Gas', 'Clothes Dryer - Electric',\n",
       "       'Stove/Cooking - Electric', 'Ignitable Liquids/Gases - Gasoline',\n",
       "       'Ballast', 'Theft from Quarters', 'Microwave', 'Motors - Subway',\n",
       "       'Rekindle', 'Incendiary - Reckless Use of Open Flame',\n",
       "       'Other - Gas', 'Heat from an Iron', 'Not Ascertained',\n",
       "       'Juvenile Firesetter Community Outreach', 'Motors - Elevator',\n",
       "       'Radio/Stereo', 'Barbecue - Propane', 'Headquarters Investigation',\n",
       "       'Coffee Pot', 'Stove - Electric', 'Fireworks Related',\n",
       "       'Aerosol Can', 'Arc Welding', 'Dishwasher',\n",
       "       'Juvenile Firesetter Follow Up', 'Incendiary - Explosives',\n",
       "       'Washer/Dryer Combo', 'Ignitable Liquids/Gases - Pesticide Fogger',\n",
       "       'Ignitable Liquid-Polyurethane/Varnish/PaintThinner',\n",
       "       'Clothes Washer', 'Solar Rays',\n",
       "       'Ignitable Liquids/Gases - Lighter Fluid',\n",
       "       'Electrocution - Electrical Burns to Person', 'Brands',\n",
       "       'Stove - Coal', 'Return on F. P. Warrant', 'Incendiary - Suicide',\n",
       "       'Ignitable Liquids/Gases - Fuel Oil',\n",
       "       'Portable Heater - Natural Gas', 'Cable/Satellite Equipment',\n",
       "       'Juvenile Firesetter School Visit', 'Lightning', 'Natural Sources',\n",
       "       'Surge Suppressor', 'Portable Heater - Propane', 'Stove - Propane',\n",
       "       'Lithium Ion Battery'], dtype=object)"
      ]
     },
     "execution_count": 14,
     "metadata": {},
     "output_type": "execute_result"
    }
   ],
   "source": [
    "df['Cause_Fire_Description'].unique()"
   ]
  },
  {
   "cell_type": "markdown",
   "id": "da811613",
   "metadata": {},
   "source": [
    "### <font color=\"midnightblue\"> Data Exploration - Detailed </font> "
   ]
  },
  {
   "cell_type": "code",
   "execution_count": 15,
   "id": "c838cfce",
   "metadata": {},
   "outputs": [
    {
     "data": {
      "text/plain": [
       "Borough\n",
       "Bronx             12268\n",
       "Brooklyn          15823\n",
       "Manhattan         10381\n",
       "Outside of NYC       77\n",
       "Queens            12169\n",
       "Staten Island      2763\n",
       "Name: Case Number, dtype: int64"
      ]
     },
     "execution_count": 15,
     "metadata": {},
     "output_type": "execute_result"
    }
   ],
   "source": [
    "# Grouping data to view counts for row info\n",
    "\n",
    "df.groupby (['Borough'])['Case Number'].count()"
   ]
  },
  {
   "cell_type": "code",
   "execution_count": 16,
   "id": "affa9efd",
   "metadata": {},
   "outputs": [
    {
     "data": {
      "text/plain": [
       "Fire_Code_Category\n",
       "Appliances               1038\n",
       "Cooking                   116\n",
       "Cooking Carelessness     2128\n",
       "Electrical               8127\n",
       "Electrical Devices         85\n",
       "Heaters                   451\n",
       "Hot Objects              1885\n",
       "Ignitable                 341\n",
       "Incendiary              10755\n",
       "Motors                    590\n",
       "Natural Sources           278\n",
       "No Fire                  2135\n",
       "Open Flame               2373\n",
       "Other                   18315\n",
       "Smoking                  5063\n",
       "Name: Case Number, dtype: int64"
      ]
     },
     "execution_count": 16,
     "metadata": {},
     "output_type": "execute_result"
    }
   ],
   "source": [
    "df.groupby (['Fire_Code_Category'])['Case Number'].count()"
   ]
  },
  {
   "cell_type": "code",
   "execution_count": 17,
   "id": "fa572299",
   "metadata": {},
   "outputs": [
    {
     "data": {
      "text/plain": [
       "Cause_Fire_Description\n",
       "Aerosol Can                                            21\n",
       "Albany Burn Notif. / Pending Investigation            200\n",
       "Albany Burn Notif. Related to a Previous BFI Inv.     533\n",
       "Albany Burn Notif. Unrelated to a Fire/Explosion     1899\n",
       "Appliance Cord                                        192\n",
       "                                                     ... \n",
       "Torch - Legal Use of                                  373\n",
       "Transformer                                            63\n",
       "Under Investigation                                    16\n",
       "Vehicle Wiring                                        454\n",
       "Washer/Dryer Combo                                      6\n",
       "Name: Case Number, Length: 134, dtype: int64"
      ]
     },
     "execution_count": 17,
     "metadata": {},
     "output_type": "execute_result"
    }
   ],
   "source": [
    "df.groupby (['Cause_Fire_Description'])['Case Number'].count()"
   ]
  },
  {
   "cell_type": "code",
   "execution_count": 18,
   "id": "d1cecc7d",
   "metadata": {},
   "outputs": [
    {
     "data": {
      "text/plain": [
       "Incident_Classification\n",
       "Aircraft                             14\n",
       "Boat                                 71\n",
       "Brush                               242\n",
       "Burn Notification                  1365\n",
       "Burn Notification (Albany)         1304\n",
       "Commercial Structure               3352\n",
       "Construction Trailer                 26\n",
       "Construction Vehicle                 11\n",
       "Garage/Shed                         586\n",
       "Government Structure                173\n",
       "Group Home                          163\n",
       "Hospital                            152\n",
       "Hotel                               160\n",
       "MD Residential Structure          20561\n",
       "MFA                                 843\n",
       "Manhole                             179\n",
       "Miscellaneous                        50\n",
       "No Fire                             761\n",
       "Nursing Home                         40\n",
       "Other                              2404\n",
       "Outside Rubbish                    2249\n",
       "PD Residential Structure           6781\n",
       "Possible Single Room Occupancy       30\n",
       "Public Hallway                       70\n",
       "Public Structure                    121\n",
       "Religious Structure                 183\n",
       "School                              326\n",
       "Sidewalk                            112\n",
       "Street                               84\n",
       "Threat to Burn                       29\n",
       "Transformer                          58\n",
       "Transit                             275\n",
       "Vehicle                           10139\n",
       "Name: Case Number, dtype: int64"
      ]
     },
     "execution_count": 18,
     "metadata": {},
     "output_type": "execute_result"
    }
   ],
   "source": [
    "df.groupby (['Incident_Classification'])['Case Number'].count()"
   ]
  },
  {
   "cell_type": "markdown",
   "id": "c9aac1b4",
   "metadata": {},
   "source": [
    "### <font color=\"midnightblue\"> Data Cleaning Part 1</font>"
   ]
  },
  {
   "cell_type": "code",
   "execution_count": 19,
   "id": "939d0331",
   "metadata": {},
   "outputs": [],
   "source": [
    "# Reloading df non-standard missing values \"Outside of NYC\" as missing values, and dropping missing values (focus is 5 bor only)\n",
    "\n",
    "missing_values = [\"Outside of NYC\",\"Out of NYC\",\"No Fire\"]\n",
    "df = pd.read_csv ('Bureau_of_Fire_Investigations_-_Fire_Causes_20240609.csv',na_values = missing_values).dropna()"
   ]
  },
  {
   "cell_type": "code",
   "execution_count": 20,
   "id": "b2494bbe",
   "metadata": {},
   "outputs": [
    {
     "data": {
      "text/plain": [
       "Borough\n",
       "Bronx            10088\n",
       "Brooklyn         12831\n",
       "Manhattan         8105\n",
       "Queens            9617\n",
       "Staten Island     2224\n",
       "Name: Case Number, dtype: int64"
      ]
     },
     "execution_count": 20,
     "metadata": {},
     "output_type": "execute_result"
    }
   ],
   "source": [
    "# Checking missing values were dropped \n",
    "\n",
    "df.groupby (['Borough'])['Case Number'].count()"
   ]
  },
  {
   "cell_type": "code",
   "execution_count": 21,
   "id": "f936c860",
   "metadata": {},
   "outputs": [
    {
     "data": {
      "text/plain": [
       "Community_District\n",
       "1.0     4611\n",
       "2.0     2685\n",
       "3.0     4026\n",
       "4.0     2749\n",
       "5.0     3756\n",
       "6.0     2160\n",
       "7.0     2624\n",
       "8.0     2188\n",
       "9.0     2886\n",
       "10.0    2552\n",
       "11.0    2353\n",
       "12.0    4149\n",
       "13.0    1509\n",
       "14.0    1411\n",
       "15.0     554\n",
       "16.0     878\n",
       "17.0     890\n",
       "18.0     884\n",
       "Name: Case Number, dtype: int64"
      ]
     },
     "execution_count": 21,
     "metadata": {},
     "output_type": "execute_result"
    }
   ],
   "source": [
    "# Checking missing values were dropped \n",
    "\n",
    "df.groupby (['Community_District'])['Case Number'].count()"
   ]
  },
  {
   "cell_type": "code",
   "execution_count": 22,
   "id": "64435a59",
   "metadata": {},
   "outputs": [
    {
     "data": {
      "text/html": [
       "<div>\n",
       "<style scoped>\n",
       "    .dataframe tbody tr th:only-of-type {\n",
       "        vertical-align: middle;\n",
       "    }\n",
       "\n",
       "    .dataframe tbody tr th {\n",
       "        vertical-align: top;\n",
       "    }\n",
       "\n",
       "    .dataframe thead th {\n",
       "        text-align: right;\n",
       "    }\n",
       "</style>\n",
       "<table border=\"1\" class=\"dataframe\">\n",
       "  <thead>\n",
       "    <tr style=\"text-align: right;\">\n",
       "      <th></th>\n",
       "      <th>Case_Year</th>\n",
       "      <th>Case Number</th>\n",
       "      <th>Borough</th>\n",
       "      <th>Community_District</th>\n",
       "      <th>Incident_Classification</th>\n",
       "      <th>Cause_Fire_Description</th>\n",
       "      <th>Fire_Code_Category</th>\n",
       "    </tr>\n",
       "  </thead>\n",
       "  <tbody>\n",
       "    <tr>\n",
       "      <th>0</th>\n",
       "      <td>2016</td>\n",
       "      <td>40001</td>\n",
       "      <td>Queens</td>\n",
       "      <td>8.0</td>\n",
       "      <td>MD Residential Structure</td>\n",
       "      <td>Smoking (Cigarette/Cigar)</td>\n",
       "      <td>Smoking</td>\n",
       "    </tr>\n",
       "  </tbody>\n",
       "</table>\n",
       "</div>"
      ],
      "text/plain": [
       "   Case_Year  Case Number Borough  Community_District  \\\n",
       "0       2016        40001  Queens                 8.0   \n",
       "\n",
       "    Incident_Classification     Cause_Fire_Description Fire_Code_Category  \n",
       "0  MD Residential Structure  Smoking (Cigarette/Cigar)            Smoking  "
      ]
     },
     "execution_count": 22,
     "metadata": {},
     "output_type": "execute_result"
    }
   ],
   "source": [
    "# Subset data from df to df1 which will contain only the columns interested in viewing and checking output is correct \n",
    "\n",
    "df [['Case_Year', 'Case Number', 'Borough', 'Community_District', 'Incident_Classification', 'Cause_Fire_Description', 'Fire_Code_Category']]\n",
    "df1 = df [['Case_Year', 'Case Number', 'Borough', 'Community_District', 'Incident_Classification', 'Cause_Fire_Description', 'Fire_Code_Category']]\n",
    "\n",
    "df1.head (1)"
   ]
  },
  {
   "cell_type": "code",
   "execution_count": 39,
   "id": "65e6c989",
   "metadata": {},
   "outputs": [
    {
     "data": {
      "text/html": [
       "<div>\n",
       "<style scoped>\n",
       "    .dataframe tbody tr th:only-of-type {\n",
       "        vertical-align: middle;\n",
       "    }\n",
       "\n",
       "    .dataframe tbody tr th {\n",
       "        vertical-align: top;\n",
       "    }\n",
       "\n",
       "    .dataframe thead th {\n",
       "        text-align: right;\n",
       "    }\n",
       "</style>\n",
       "<table border=\"1\" class=\"dataframe\">\n",
       "  <thead>\n",
       "    <tr style=\"text-align: right;\">\n",
       "      <th></th>\n",
       "      <th>Case Year</th>\n",
       "      <th>Case Number</th>\n",
       "      <th>Borough</th>\n",
       "      <th>Community District</th>\n",
       "      <th>Incident Classification</th>\n",
       "      <th>Cause Fire Description</th>\n",
       "      <th>Fire Code Category</th>\n",
       "    </tr>\n",
       "  </thead>\n",
       "  <tbody>\n",
       "    <tr>\n",
       "      <th>0</th>\n",
       "      <td>2016</td>\n",
       "      <td>40001</td>\n",
       "      <td>Queens</td>\n",
       "      <td>8.0</td>\n",
       "      <td>MD Residential Structure</td>\n",
       "      <td>Smoking (Cigarette/Cigar)</td>\n",
       "      <td>Smoking</td>\n",
       "    </tr>\n",
       "  </tbody>\n",
       "</table>\n",
       "</div>"
      ],
      "text/plain": [
       "   Case Year  Case Number Borough  Community District  \\\n",
       "0       2016        40001  Queens                 8.0   \n",
       "\n",
       "    Incident Classification     Cause Fire Description Fire Code Category  \n",
       "0  MD Residential Structure  Smoking (Cigarette/Cigar)            Smoking  "
      ]
     },
     "execution_count": 39,
     "metadata": {},
     "output_type": "execute_result"
    }
   ],
   "source": [
    "# Renamed Column names for uniformity and checking output matches the needed columns\n",
    "\n",
    "df1 = df1.rename(columns={'Case_Year' : 'Case Year', 'Community_District' : 'Community District', 'Incident_Classification' : 'Incident Classification', 'Cause_Fire_Description' : 'Cause Fire Description', 'Fire_Code_Category' : 'Fire Code Category'})\n",
    "\n",
    "df1.head(1)"
   ]
  },
  {
   "cell_type": "markdown",
   "id": "890d09d7",
   "metadata": {},
   "source": [
    "### <font color=\"midnightblue\"> Visualizations Part 1 </font>"
   ]
  },
  {
   "cell_type": "code",
   "execution_count": 27,
   "id": "62240e37",
   "metadata": {},
   "outputs": [
    {
     "data": {
      "text/plain": [
       "[Text(0.5, 1.0, 'Investigations by Case Year'),\n",
       " Text(0.5, 0, 'Year'),\n",
       " Text(0, 0.5, 'Count')]"
      ]
     },
     "execution_count": 27,
     "metadata": {},
     "output_type": "execute_result"
    },
    {
     "data": {
      "image/png": "[encoded data removed]",
      "text/plain": [
       "<Figure size 640x480 with 1 Axes>"
      ]
     },
     "metadata": {},
     "output_type": "display_data"
    }
   ],
   "source": [
    "# Visualization for Case Year \n",
    "\n",
    "ax = sns.countplot (x = 'Case Year', palette = \"Paired\", data = df1)\n",
    "sns.set_style('darkgrid')\n",
    "for container in ax.containers:\n",
    "    ax.bar_label(container)\n",
    "ax.set (title = 'Investigations by Case Year', xlabel = 'Year', ylabel = 'Count')"
   ]
  },
  {
   "cell_type": "code",
   "execution_count": 41,
   "id": "bd900358",
   "metadata": {},
   "outputs": [
    {
     "data": {
      "text/plain": [
       "[Text(0.5, 1.0, 'Investigations by Year and Borough'),\n",
       " Text(0.5, 0, 'Year'),\n",
       " Text(0, 0.5, 'Count')]"
      ]
     },
     "execution_count": 41,
     "metadata": {},
     "output_type": "execute_result"
    },
    {
     "data": {
      "image/png": "[encoded data removed]",
      "text/plain": [
       "<Figure size 640x480 with 1 Axes>"
      ]
     },
     "metadata": {},
     "output_type": "display_data"
    }
   ],
   "source": [
    "# Visualization for Case Year + Borough - Added hue to add a layer of data for , assigned color palette, changed background to dark grid\n",
    "\n",
    "ax = sns.countplot (x = 'Case Year', hue = 'Borough', palette = \"Paired\", data = df1)\n",
    "sns.set_style('darkgrid')\n",
    "\n",
    "ax.set (title = 'Investigations by Year and Borough', xlabel = 'Year', ylabel = 'Count') "
   ]
  },
  {
   "cell_type": "markdown",
   "id": "a88541f8",
   "metadata": {},
   "source": [
    "### <font color=\"midnightblue\"> Data Cleaning Part 2 </font>"
   ]
  },
  {
   "cell_type": "code",
   "execution_count": 64,
   "id": "705be86b",
   "metadata": {},
   "outputs": [
    {
     "data": {
      "text/html": [
       "<div>\n",
       "<style scoped>\n",
       "    .dataframe tbody tr th:only-of-type {\n",
       "        vertical-align: middle;\n",
       "    }\n",
       "\n",
       "    .dataframe tbody tr th {\n",
       "        vertical-align: top;\n",
       "    }\n",
       "\n",
       "    .dataframe thead th {\n",
       "        text-align: right;\n",
       "    }\n",
       "</style>\n",
       "<table border=\"1\" class=\"dataframe\">\n",
       "  <thead>\n",
       "    <tr style=\"text-align: right;\">\n",
       "      <th></th>\n",
       "      <th>Case Year</th>\n",
       "      <th>Case Number</th>\n",
       "      <th>Borough</th>\n",
       "      <th>Community District</th>\n",
       "      <th>Incident Classification</th>\n",
       "      <th>Cause Fire Description</th>\n",
       "      <th>Fire Code Category</th>\n",
       "    </tr>\n",
       "  </thead>\n",
       "  <tbody>\n",
       "    <tr>\n",
       "      <th>6</th>\n",
       "      <td>2016</td>\n",
       "      <td>77003</td>\n",
       "      <td>Brooklyn</td>\n",
       "      <td>2.0</td>\n",
       "      <td>PD Residential Structure</td>\n",
       "      <td>Other - Open Flame</td>\n",
       "      <td>Open Flame</td>\n",
       "    </tr>\n",
       "    <tr>\n",
       "      <th>9</th>\n",
       "      <td>2016</td>\n",
       "      <td>77004</td>\n",
       "      <td>Brooklyn</td>\n",
       "      <td>4.0</td>\n",
       "      <td>MD Residential Structure</td>\n",
       "      <td>Smoking (Cigarette/Cigar)</td>\n",
       "      <td>Smoking</td>\n",
       "    </tr>\n",
       "    <tr>\n",
       "      <th>16</th>\n",
       "      <td>2016</td>\n",
       "      <td>60046</td>\n",
       "      <td>Brooklyn</td>\n",
       "      <td>3.0</td>\n",
       "      <td>Burn Notification</td>\n",
       "      <td>Albany Burn Notif. Related to a Previous BFI Inv.</td>\n",
       "      <td>Other</td>\n",
       "    </tr>\n",
       "    <tr>\n",
       "      <th>17</th>\n",
       "      <td>2016</td>\n",
       "      <td>30001</td>\n",
       "      <td>Brooklyn</td>\n",
       "      <td>3.0</td>\n",
       "      <td>PD Residential Structure</td>\n",
       "      <td>Smoking (Cigarette/Cigar)</td>\n",
       "      <td>Smoking</td>\n",
       "    </tr>\n",
       "    <tr>\n",
       "      <th>22</th>\n",
       "      <td>2016</td>\n",
       "      <td>77036</td>\n",
       "      <td>Brooklyn</td>\n",
       "      <td>3.0</td>\n",
       "      <td>Outside Rubbish</td>\n",
       "      <td>Incendiary</td>\n",
       "      <td>Incendiary</td>\n",
       "    </tr>\n",
       "    <tr>\n",
       "      <th>...</th>\n",
       "      <td>...</td>\n",
       "      <td>...</td>\n",
       "      <td>...</td>\n",
       "      <td>...</td>\n",
       "      <td>...</td>\n",
       "      <td>...</td>\n",
       "      <td>...</td>\n",
       "    </tr>\n",
       "    <tr>\n",
       "      <th>53709</th>\n",
       "      <td>2024</td>\n",
       "      <td>30404</td>\n",
       "      <td>Brooklyn</td>\n",
       "      <td>11.0</td>\n",
       "      <td>PD Residential Structure</td>\n",
       "      <td>Electrical Wiring</td>\n",
       "      <td>Electrical</td>\n",
       "    </tr>\n",
       "    <tr>\n",
       "      <th>53711</th>\n",
       "      <td>2024</td>\n",
       "      <td>30407</td>\n",
       "      <td>Brooklyn</td>\n",
       "      <td>9.0</td>\n",
       "      <td>MD Residential Structure</td>\n",
       "      <td>Smoking (Cigarette/Cigar)</td>\n",
       "      <td>Smoking</td>\n",
       "    </tr>\n",
       "    <tr>\n",
       "      <th>53716</th>\n",
       "      <td>2024</td>\n",
       "      <td>30413</td>\n",
       "      <td>Brooklyn</td>\n",
       "      <td>15.0</td>\n",
       "      <td>Outside Rubbish</td>\n",
       "      <td>Incendiary</td>\n",
       "      <td>Incendiary</td>\n",
       "    </tr>\n",
       "    <tr>\n",
       "      <th>53731</th>\n",
       "      <td>2024</td>\n",
       "      <td>30424</td>\n",
       "      <td>Brooklyn</td>\n",
       "      <td>15.0</td>\n",
       "      <td>Transformer</td>\n",
       "      <td>Preliminary Investigation Only</td>\n",
       "      <td>Other</td>\n",
       "    </tr>\n",
       "    <tr>\n",
       "      <th>53739</th>\n",
       "      <td>2024</td>\n",
       "      <td>30440</td>\n",
       "      <td>Brooklyn</td>\n",
       "      <td>14.0</td>\n",
       "      <td>MD Residential Structure</td>\n",
       "      <td>Preliminary Investigation Only</td>\n",
       "      <td>Other</td>\n",
       "    </tr>\n",
       "  </tbody>\n",
       "</table>\n",
       "<p>12831 rows × 7 columns</p>\n",
       "</div>"
      ],
      "text/plain": [
       "       Case Year  Case Number   Borough  Community District  \\\n",
       "6           2016        77003  Brooklyn                 2.0   \n",
       "9           2016        77004  Brooklyn                 4.0   \n",
       "16          2016        60046  Brooklyn                 3.0   \n",
       "17          2016        30001  Brooklyn                 3.0   \n",
       "22          2016        77036  Brooklyn                 3.0   \n",
       "...          ...          ...       ...                 ...   \n",
       "53709       2024        30404  Brooklyn                11.0   \n",
       "53711       2024        30407  Brooklyn                 9.0   \n",
       "53716       2024        30413  Brooklyn                15.0   \n",
       "53731       2024        30424  Brooklyn                15.0   \n",
       "53739       2024        30440  Brooklyn                14.0   \n",
       "\n",
       "        Incident Classification  \\\n",
       "6      PD Residential Structure   \n",
       "9      MD Residential Structure   \n",
       "16            Burn Notification   \n",
       "17     PD Residential Structure   \n",
       "22              Outside Rubbish   \n",
       "...                         ...   \n",
       "53709  PD Residential Structure   \n",
       "53711  MD Residential Structure   \n",
       "53716           Outside Rubbish   \n",
       "53731               Transformer   \n",
       "53739  MD Residential Structure   \n",
       "\n",
       "                                  Cause Fire Description Fire Code Category  \n",
       "6                                     Other - Open Flame         Open Flame  \n",
       "9                              Smoking (Cigarette/Cigar)            Smoking  \n",
       "16     Albany Burn Notif. Related to a Previous BFI Inv.              Other  \n",
       "17                             Smoking (Cigarette/Cigar)            Smoking  \n",
       "22                                            Incendiary         Incendiary  \n",
       "...                                                  ...                ...  \n",
       "53709                                  Electrical Wiring         Electrical  \n",
       "53711                          Smoking (Cigarette/Cigar)            Smoking  \n",
       "53716                                         Incendiary         Incendiary  \n",
       "53731                     Preliminary Investigation Only              Other  \n",
       "53739                     Preliminary Investigation Only              Other  \n",
       "\n",
       "[12831 rows x 7 columns]"
      ]
     },
     "execution_count": 64,
     "metadata": {},
     "output_type": "execute_result"
    }
   ],
   "source": [
    "# Subset data from df1 to df2 which will contain only the data for Brooklyn \n",
    "\n",
    "df1[(df1['Borough'] == 'Brooklyn')]\n",
    "df2 = df1[(df1['Borough'] == 'Brooklyn')]\n",
    "\n",
    "df2"
   ]
  },
  {
   "cell_type": "code",
   "execution_count": 91,
   "id": "25370c43",
   "metadata": {},
   "outputs": [
    {
     "data": {
      "text/plain": [
       "Community District\n",
       "5.0     1446\n",
       "3.0     1078\n",
       "1.0     1010\n",
       "17.0     887\n",
       "18.0     884\n",
       "Name: Case Number, dtype: int64"
      ]
     },
     "execution_count": 91,
     "metadata": {},
     "output_type": "execute_result"
    }
   ],
   "source": [
    "# Grouping districts to see whici had the highest amount of cases\n",
    "\n",
    "df2.groupby (['Community District'])['Case Number'].count().sort_values()\n",
    "df3= df2.groupby (['Community District'])['Case Number'].count().sort_values(ascending=False).head(5)\n",
    "\n",
    "df3"
   ]
  },
  {
   "cell_type": "code",
   "execution_count": 95,
   "id": "0090be15",
   "metadata": {
    "scrolled": false
   },
   "outputs": [
    {
     "data": {
      "text/plain": [
       "[Text(0.5, 1.0, 'Investigations by Community Districts in Brooklyn'),\n",
       " Text(0.5, 0, 'Community District'),\n",
       " Text(0, 0.5, 'Count')]"
      ]
     },
     "execution_count": 95,
     "metadata": {},
     "output_type": "execute_result"
    },
    {
     "data": {
      "image/png": "[encoded data removed]",
      "text/plain": [
       "<Figure size 640x480 with 1 Axes>"
      ]
     },
     "metadata": {},
     "output_type": "display_data"
    }
   ],
   "source": [
    "# Visualization for the top 10 community districts in broklyn with the highest # of investigations\n",
    "\n",
    "ax = df3.plot(kind='bar')\n",
    "for container in ax.containers:\n",
    "    ax.bar_label(container)\n",
    "ax.set (title = 'Investigations by Community Districts in Brooklyn', xlabel = 'Community District', ylabel = 'Count') "
   ]
  },
  {
   "cell_type": "markdown",
   "id": "2e51e1a6",
   "metadata": {},
   "source": [
    "### <font color=\"midnightblue\"> Visualizaton Part 2 </font>"
   ]
  },
  {
   "cell_type": "code",
   "execution_count": 97,
   "id": "3aa4442f",
   "metadata": {},
   "outputs": [
    {
     "data": {
      "text/plain": [
       "[Text(0.5, 1.0, 'Investigations by Incident Classification in Brooklyn'),\n",
       " Text(0.5, 0, 'Incident Classification'),\n",
       " Text(0, 0.5, 'Count')]"
      ]
     },
     "execution_count": 97,
     "metadata": {},
     "output_type": "execute_result"
    },
    {
     "data": {
      "image/png": "[encoded data removed]",
      "text/plain": [
       "<Figure size 640x480 with 1 Axes>"
      ]
     },
     "metadata": {},
     "output_type": "display_data"
    }
   ],
   "source": [
    "# Visualization for Fire Code Category\n",
    "\n",
    "ax = sns.countplot(x=\"Fire Code Category\", data=df2, palette=\"Paired\")\n",
    "ax.tick_params(axis='x', rotation=90)\n",
    "for container in ax.containers:\n",
    "    ax.bar_label(container)\n",
    "ax.set (title = 'Investigations by Incident Classification in Brooklyn', xlabel = 'Incident Classification', ylabel = 'Count') "
   ]
  },
  {
   "cell_type": "markdown",
   "id": "f60b5efc",
   "metadata": {},
   "source": [
    " ### <font color=\"midnightblue\"> Conclusion </font>"
   ]
  },
  {
   "attachments": {},
   "cell_type": "markdown",
   "id": "1d5ba810",
   "metadata": {},
   "source": [
    "Since there are ongoing investigations for 2024, we are focusing on data for the previous years. From the first visualization, we learn that year 2016 had the highest number of investigations, followed by 2017. Since then, there has been a consistent decrease in the count of investigations. There is a correlation between the decrease in investigations during the peak of covid during 2020 - 2021. From the second visualiation, we learn that Brooklyn had the highest count of investigations in all the boroughs, and Staten Island had the lowest count. The third visualization shows us the most common incident types are Other, Incendiary, Electrical, Smoking, and Open Flame. Lastly, Brooklyn Community District 5, had the highest count of investigations. To summarize, resources should be directed to Brooklyn District 5 where incidents are the highest and public education should be provided on incendiary and electrical fires. "
   ]
  },
  {
   "cell_type": "code",
   "execution_count": null,
   "id": "f6f20c45",
   "metadata": {},
   "outputs": [],
   "source": []
  },
  {
   "cell_type": "code",
   "execution_count": null,
   "id": "bf47792f",
   "metadata": {},
   "outputs": [],
   "source": []
  }
 ],
 "metadata": {
  "kernelspec": {
   "display_name": "Python 3 (ipykernel)",
   "language": "python",
   "name": "python3"
  },
  "language_info": {
   "codemirror_mode": {
    "name": "ipython",
    "version": 3
   },
   "file_extension": ".py",
   "mimetype": "text/x-python",
   "name": "python",
   "nbconvert_exporter": "python",
   "pygments_lexer": "ipython3",
   "version": "3.11.5"
  }
 },
 "nbformat": 4,
 "nbformat_minor": 5
}
