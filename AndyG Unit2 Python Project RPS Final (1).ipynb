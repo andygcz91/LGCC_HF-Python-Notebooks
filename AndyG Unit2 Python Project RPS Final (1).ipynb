{
 "cells": [
  {
   "cell_type": "code",
   "execution_count": 1,
   "id": "b14f4719",
   "metadata": {},
   "outputs": [
    {
     "name": "stdout",
     "output_type": "stream",
     "text": [
      "Welcome to RPS, Choose your weapon!\n",
      "\n",
      "Player 1 ... Ready, Set, Shoot: Rock, Paper, or Scissors? rock\n",
      "\n",
      "Shots Fired!\n",
      "\n",
      "Player 2 ... Ready, Set, Shoot: Rock, Paper, or Scissors? paper\n",
      "\n",
      "Shots Returned!\n",
      "\n",
      "Player 2 wins!\n",
      "Type yes to play again, type no to end game: yes\n",
      "\n",
      "Player 1 ... Ready, Set, Shoot: Rock, Paper, or Scissors? paper\n",
      "\n",
      "Shots Fired!\n",
      "\n",
      "Player 2 ... Ready, Set, Shoot: Rock, Paper, or Scissors? rock\n",
      "\n",
      "Shots Returned!\n",
      "\n",
      "Player 1 wins!\n",
      "Type yes to play again, type no to end game: no\n",
      "\n",
      "Weapons down, Come back soon\n"
     ]
    }
   ],
   "source": [
    "print (\"Welcome to RPS, Choose your weapon!\\n\")\n",
    "\n",
    "\n",
    "play_again = 'yes'\n",
    "\n",
    "while (play_again == 'yes'):\n",
    "\n",
    "    Player_1 = input (\"Player 1 ... Ready, Set, Shoot: Rock, Paper, or Scissors? \")\n",
    "    Player_1 = Player_1.lower()\n",
    "    print(\"\\nShots Fired!\\n\")\n",
    "\n",
    "    Player_2 = input (\"Player 2 ... Ready, Set, Shoot: Rock, Paper, or Scissors? \")\n",
    "    Player_2 = Player_2.lower ()\n",
    "    print (\"\\nShots Returned!\\n\")\n",
    "\n",
    "    if (Player_1 == \"rock\"):\n",
    "        if (Player_2 == \"rock\"):\n",
    "            print (\"It's a tie, Try again\")\n",
    "        elif (Player_2 == \"paper\"):\n",
    "            print (\"Player 2 wins!\")\n",
    "        elif (Player_2 == \"scissors\"):\n",
    "            print (\"Player 1 wins!\")\n",
    "            \n",
    "    elif (Player_1 == \"paper\"):\n",
    "        if (Player_2 == \"rock\"):\n",
    "            print (\"Player 1 wins!\")\n",
    "        elif (Player_2 == \"paper\"):\n",
    "            print (\"It's a tie, Try again\")\n",
    "        elif (Player_2 == \"scissors\"):\n",
    "            print (\"Player 2 wins!\")\n",
    "            \n",
    "    elif (Player_1 == \"scissors\"):\n",
    "        if (Player_2 == \"rock\"):\n",
    "            print (\"Player 2 wins!\")\n",
    "        elif (Player_2 == \"paper\"):\n",
    "            print (\"Player 1 wins!\")\n",
    "        elif (Player_2 == \"scissors\"):\n",
    "            print (\"It's a tie, Try again\")\n",
    "            \n",
    "    else:\n",
    "        print (\"Invalid choice, ONLY type Rock, Paper, or Scissors \")\n",
    "        \n",
    "    play_again = input (\"Type yes to play again, type no to end game: \")\n",
    "    print ()\n",
    "    \n",
    "\n",
    "while (play_again == 'no'):\n",
    "    print (\"Weapons down, Come back soon\")\n",
    "    break\n",
    "    "
   ]
  },
  {
   "cell_type": "code",
   "execution_count": null,
   "id": "655aeb13",
   "metadata": {},
   "outputs": [],
   "source": []
  }
 ],
 "metadata": {
  "kernelspec": {
   "display_name": "Python 3 (ipykernel)",
   "language": "python",
   "name": "python3"
  },
  "language_info": {
   "codemirror_mode": {
    "name": "ipython",
    "version": 3
   },
   "file_extension": ".py",
   "mimetype": "text/x-python",
   "name": "python",
   "nbconvert_exporter": "python",
   "pygments_lexer": "ipython3",
   "version": "3.11.5"
  }
 },
 "nbformat": 4,
 "nbformat_minor": 5
}
